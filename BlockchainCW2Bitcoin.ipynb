{
 "cells": [
  {
   "cell_type": "code",
   "execution_count": 1,
   "id": "9a933ccd",
   "metadata": {},
   "outputs": [
    {
     "name": "stdout",
     "output_type": "stream",
     "text": [
      "Requirement already satisfied: bitcoin in c:\\users\\sukhi\\anaconda3\\lib\\site-packages (1.1.42)\n",
      "Note: you may need to restart the kernel to use updated packages.\n"
     ]
    },
    {
     "name": "stderr",
     "output_type": "stream",
     "text": [
      "WARNING: Ignoring invalid distribution -rotobuf (c:\\users\\sukhi\\anaconda3\\lib\\site-packages)\n",
      "WARNING: Ignoring invalid distribution -rotobuf (c:\\users\\sukhi\\anaconda3\\lib\\site-packages)\n",
      "WARNING: Ignoring invalid distribution -rotobuf (c:\\users\\sukhi\\anaconda3\\lib\\site-packages)\n",
      "WARNING: Ignoring invalid distribution -rotobuf (c:\\users\\sukhi\\anaconda3\\lib\\site-packages)\n",
      "WARNING: Ignoring invalid distribution -rotobuf (c:\\users\\sukhi\\anaconda3\\lib\\site-packages)\n",
      "WARNING: Ignoring invalid distribution -rotobuf (c:\\users\\sukhi\\anaconda3\\lib\\site-packages)\n"
     ]
    }
   ],
   "source": [
    "pip install bitcoin\n"
   ]
  },
  {
   "cell_type": "code",
   "execution_count": 2,
   "id": "9e9f363d",
   "metadata": {},
   "outputs": [],
   "source": [
    "from bitcoin import *\n"
   ]
  },
  {
   "cell_type": "code",
   "execution_count": 3,
   "id": "54d8a78e",
   "metadata": {},
   "outputs": [
    {
     "name": "stdout",
     "output_type": "stream",
     "text": [
      "Private Key: d75ede15cca253d2e0503b78a1b99fb2bac4aaaad52e796745a554113404e22f\n",
      "\n"
     ]
    }
   ],
   "source": [
    "my_private_key = random_key()\n",
    "print(\"Private Key: %s\\n\" % my_private_key)"
   ]
  },
  {
   "cell_type": "code",
   "execution_count": 4,
   "id": "7c812b46",
   "metadata": {},
   "outputs": [
    {
     "name": "stdout",
     "output_type": "stream",
     "text": [
      "Public Key: 047c543ac7b8fb3b5c667c949f0597d8eb935df3875a2097239d5690fd1098ac9658c30a9ccb323534ab616688020c0af9bb89cbb5e3e0e8d1f56c223e40cc12fe\n",
      "\n"
     ]
    }
   ],
   "source": [
    "my_public_key = privtopub(my_private_key)\n",
    "print(\"Public Key: %s\\n\" % my_public_key)"
   ]
  },
  {
   "cell_type": "code",
   "execution_count": 5,
   "id": "e14785d9",
   "metadata": {},
   "outputs": [
    {
     "name": "stdout",
     "output_type": "stream",
     "text": [
      "Bitcoin Address: 122euJN6orQX3R5B2XuUTr4tCPp4Yi9pmM\n",
      "\n"
     ]
    }
   ],
   "source": [
    "my_address = pubtoaddr(my_public_key)\n",
    "print(\"Bitcoin Address: %s\\n\" % my_address)"
   ]
  },
  {
   "cell_type": "code",
   "execution_count": 6,
   "id": "5881bd26",
   "metadata": {},
   "outputs": [],
   "source": [
    "private_key1 = random_key() #CEO\n",
    "private_key2 = random_key() #Alice\n",
    "private_key3 = random_key() #Bob\n",
    "private_key4 = random_key() #COO"
   ]
  },
  {
   "cell_type": "code",
   "execution_count": 7,
   "id": "48ced3a1",
   "metadata": {},
   "outputs": [],
   "source": [
    "public_key1 = privtopub(private_key1) #CEO\n",
    "public_key2 = privtopub(private_key2) #Alice\n",
    "public_key3 = privtopub(private_key3) #Bob\n",
    "public_key4 = privtopub(private_key4) #COO"
   ]
  },
  {
   "cell_type": "code",
   "execution_count": 9,
   "id": "25f99a62",
   "metadata": {},
   "outputs": [
    {
     "name": "stdout",
     "output_type": "stream",
     "text": [
      "My Multisignature Address: 36u8Edtxm9fPFYGpWvRb5jB27AF1vxC16B\n",
      "\n"
     ]
    }
   ],
   "source": [
    "my_mulit_sig = mk_multisig_script(private_key1, private_key2, private_key3, private_key4, 3, 4)\n",
    "my_mulit_address = scriptaddr(my_mulit_sig)\n",
    "print(\"My Multisignature Address: %s\\n\" % my_mulit_address)"
   ]
  },
  {
   "cell_type": "code",
   "execution_count": null,
   "id": "4fd193fb",
   "metadata": {},
   "outputs": [],
   "source": []
  }
 ],
 "metadata": {
  "kernelspec": {
   "display_name": "Python 3 (ipykernel)",
   "language": "python",
   "name": "python3"
  },
  "language_info": {
   "codemirror_mode": {
    "name": "ipython",
    "version": 3
   },
   "file_extension": ".py",
   "mimetype": "text/x-python",
   "name": "python",
   "nbconvert_exporter": "python",
   "pygments_lexer": "ipython3",
   "version": "3.9.7"
  }
 },
 "nbformat": 4,
 "nbformat_minor": 5
}
